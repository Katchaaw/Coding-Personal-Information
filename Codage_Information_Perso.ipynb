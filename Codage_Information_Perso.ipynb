{
 "cells": [
  {
   "cell_type": "markdown",
   "metadata": {},
   "source": [
    "## Programme permettant d’afficher les informations personnelles correspondant à un code saisi sous forme décimale (sans se soucier de la valeur du bit de poids faible) et de vérifier la validité du code saisi sous forme décimale."
   ]
  },
  {
   "cell_type": "code",
   "execution_count": 50,
   "metadata": {},
   "outputs": [
    {
     "name": "stdout",
     "output_type": "stream",
     "text": [
      "Homme\n",
      "Français\n",
      "Marié/Concubin\n",
      "0 enfant\n"
     ]
    }
   ],
   "source": [
    "#nombre de lignes: 20\n",
    "slt=8\n",
    "entr=list(bin(eval(input('Rentrez le code '))))\n",
    "\n",
    "while(len(entr)<=9):\n",
    "    entr.insert(2, '0')\n",
    "\n",
    "bine=int(''.join(entr[2:6]), 2)\n",
    "val=['Homme', 'z', 'Étranger', 'Français', 'Célibataire', 'Marié/Concubin']\n",
    "val2=['z', 'Femme', 'Étrangère', 'Française', 'Célibataire', 'Mariée/Concubine']\n",
    "\n",
    "if sum(int(i) for i in entr[2:len(entr)-1])%2!=int(entr[-1]):\n",
    "        print('Invalide')\n",
    "        exit\n",
    "\n",
    "if entr[-2]=='1':\n",
    "        val=val2\n",
    "\n",
    "for i in range(3):\n",
    "    print(val[int(entr[slt])])\n",
    "    slt=slt-1\n",
    "    del val[:2]\n",
    "    \n",
    "if bine>1:\n",
    "    print(bine, 'enfants')\n",
    "else:\n",
    "    print(bine, 'enfant')"
   ]
  },
  {
   "cell_type": "markdown",
   "metadata": {},
   "source": [
    "## Programme permettant de vérifier la validité d’un code saisi sous forme décimale."
   ]
  },
  {
   "cell_type": "code",
   "execution_count": 51,
   "metadata": {},
   "outputs": [
    {
     "name": "stdout",
     "output_type": "stream",
     "text": [
      "Valide\n"
     ]
    }
   ],
   "source": [
    "#nombre de ligne: 5\n",
    "entr=list(bin(eval(input('Rentrez le code '))))\n",
    "\n",
    "if sum(int(i) for i in entr[2:len(entr)-1])%2==int(entr[-1]):\n",
    "    print('Valide')\n",
    "else:\n",
    "    print('Invalide')"
   ]
  },
  {
   "cell_type": "markdown",
   "metadata": {},
   "source": [
    "## Programme permettant de générer le code (sous forme décimale) correspondant à une saisie d’informations (Sexe, Nationalité, Etat marital et nombre d’enfants). La clé de contrôle est calculée et intégrée au code."
   ]
  },
  {
   "cell_type": "code",
   "execution_count": 52,
   "metadata": {},
   "outputs": [
    {
     "name": "stdout",
     "output_type": "stream",
     "text": [
      "Choisissez le sexe\n",
      "Choisissez la nationalité\n",
      "Choisissez l'état marital\n",
      "24\n"
     ]
    }
   ],
   "source": [
    "#nombre de lignes: 17\n",
    "print('Choisissez le sexe')\n",
    "sx=list(input('0 : Homme; 1 : Femme : '))\n",
    "\n",
    "print('Choisissez la nationalité')\n",
    "if sx==['1']:\n",
    "    nn=list(input('0 : Étrangère; 1 : Française : '))\n",
    "else:\n",
    "    nn=list(input('0 : Étranger; 1 : Français : '))\n",
    "\n",
    "print(\"Choisissez l'état marital\")\n",
    "if sx==['1']:\n",
    "    em=list(input(\"0 : Célibataire; 1 : Mariée/Concubine : \"))\n",
    "else:\n",
    "    em=list(input(\"0 : Célibataire, 1 : Marié/Concubin : \"))\n",
    "    \n",
    "ne=list(bin(eval(input(\"Choisissez le nombre d'enfants : \"))))\n",
    "del ne[:2]\n",
    "codeb=[*ne, *em, *nn, *sx]\n",
    "codeb.append(str(sum(int(i) for i in codeb)%2))\n",
    "print(int(''.join(codeb), 2))"
   ]
  },
  {
   "cell_type": "markdown",
   "metadata": {},
   "source": [
    "## Petite application permettant :\n",
    "•\tD’extraire les informations à partir d’un code saisi.\n",
    "\n",
    "•\tCoder des informations saisies.\n",
    "\n",
    "Propsition d'un choix initial à l’utilisateur afin qu’il puisse définir l’action à effectuer (codage ou décodage).\n"
   ]
  },
  {
   "cell_type": "code",
   "execution_count": 53,
   "metadata": {},
   "outputs": [
    {
     "name": "stdout",
     "output_type": "stream",
     "text": [
      "1 : Chiffrage \n",
      "2 : Déchiffrage \n",
      "3 : Vérification de la validité\n",
      "\n",
      "Choisissez le sexe\n",
      "\n",
      "Choisissez la nationalité\n",
      "\n",
      "Choisissez l'état marital\n",
      "43\n"
     ]
    }
   ],
   "source": [
    "#nombre de lignes: 45\n",
    "\n",
    "print('1 : Chiffrage \\n2 : Déchiffrage \\n3 : Vérification de la validité')\n",
    "chxdeb=eval(input(\"Choisissez l'action à exécuter : \"))\n",
    "\n"
    "if chxdeb==1:\n",
    "    print('\\nChoisissez le sexe')\n",
    "    sx=list(input('0 : Homme; 1 : Femme : '))\n",
    "    print('\\nChoisissez la nationalité')\n",
    "    if sx==['1']:\n",
    "        nn=list(input('0 : Étrangère; 1 : Française : '))\n",
    "    else:\n",
    "        nn=list(input('0 : Étranger; 1 : Français : '))\n",
    "    print(\"\\nChoisissez l'état marital\")\n",
    "    if sx==['1']:\n",
    "        em=list(input(\"0 : Célibataire; 1 : Mariée/Concubine : \"))\n",
    "    else:\n",
    "        em=list(input(\"0 : Célibataire, 1 : Marié/Concubin : \"))\n",
    "    ne=list(bin(eval(input(\"\\nChoisissez le nombre d'enfants : \"))))\n",
    "    del ne[:2]\n",
    "    codeb=[*ne, *em, *nn, *sx]\n",
    "    codeb.append(str(sum(int(i) for i in codeb)%2))\n",
    "    print(int(''.join(codeb), 2))\n",
    "    \n",
    "elif chxdeb==2:\n",
    "    slt=8\n",
    "    entr=list(bin(eval(input('Rentrez le code '))))\n",
    "    while(len(entr)<=9):\n",
    "        entr.insert(2, '0')\n",
    "    bine=int(''.join(entr[2:6]), 2)\n",
    "    val=['Homme', 'z', 'Étranger', 'Français', 'Célibataire', 'Marié/Concubin']\n",
    "    val2=['z', 'Femme', 'Étrangère', 'Française', 'Célibataire', 'Mariée/Concubine']\n",
    "    if entr[-2]=='1':\n",
    "            val=val2\n",
    "    for i in range(3):\n",
    "        print(val[int(entr[slt])])\n",
    "        slt=slt-1\n",
    "        del val[:2]\n",
    "    if bine>1:\n",
    "        print(bine, 'enfants')\n",
    "    else:\n",
    "        print(bine, 'enfant')\n",
    "        \n",
    "elif chxdeb==3:\n",
    "    entr=list(bin(eval(input('Rentrez le code '))))\n",
    "    if sum(int(i) for i in entr[2:len(entr)-1])%2==int(entr[-1]):\n",
    "        print('Valide')\n",
    "    else:\n",
    "        print('Invalide')"
   ]
  }
 ],
 "metadata": {
  "kernelspec": {
   "display_name": "Python 3",
   "language": "python",
   "name": "python3"
  },
  "language_info": {
   "codemirror_mode": {
    "name": "ipython",
    "version": 3
   },
   "file_extension": ".py",
   "mimetype": "text/x-python",
   "name": "python",
   "nbconvert_exporter": "python",
   "pygments_lexer": "ipython3",
   "version": "3.7.3"
  }
 },
 "nbformat": 4,
 "nbformat_minor": 2
}
